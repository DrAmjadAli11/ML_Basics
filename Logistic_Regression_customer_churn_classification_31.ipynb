{
 "cells": [
  {
   "cell_type": "code",
   "execution_count": 1,
   "id": "26d989d3",
   "metadata": {},
   "outputs": [
    {
     "name": "stdout",
     "output_type": "stream",
     "text": [
      "The first five rows of the dataset:\n",
      "   customer_id  credit_score country  gender  age  tenure    balance  \\\n",
      "0     15634602           619  France  Female   42       2       0.00   \n",
      "1     15647311           608   Spain  Female   41       1   83807.86   \n",
      "2     15619304           502  France  Female   42       8  159660.80   \n",
      "3     15701354           699  France  Female   39       1       0.00   \n",
      "4     15737888           850   Spain  Female   43       2  125510.82   \n",
      "\n",
      "   products_number  credit_card  active_member  estimated_salary  churn  \n",
      "0                1            1              1         101348.88      1  \n",
      "1                1            0              1         112542.58      0  \n",
      "2                3            1              0         113931.57      1  \n",
      "3                2            0              0          93826.63      0  \n",
      "4                1            1              1          79084.10      0  \n",
      "\n",
      "The total number of features in the dataset: 12\n",
      "\n",
      "The column titles (feature names) of the dataset:\n",
      "\n",
      "Index(['customer_id', 'credit_score', 'country', 'gender', 'age', 'tenure',\n",
      "       'balance', 'products_number', 'credit_card', 'active_member',\n",
      "       'estimated_salary', 'churn'],\n",
      "      dtype='object')\n"
     ]
    }
   ],
   "source": [
    "# Logistic_Regression_customer_churn_classification_31.ipynb\n",
    "# File name: Bank Customer Churn Prediction\n",
    "# File source: kaggle\n",
    "\n",
    "# Cell No. 1\n",
    "\n",
    "import numpy as np\n",
    "import pandas as pd\n",
    "import matplotlib.pyplot as plt\n",
    "from sklearn.preprocessing import LabelEncoder\n",
    "from sklearn.model_selection import train_test_split\n",
    "from sklearn.preprocessing import StandardScaler\n",
    "from sklearn.metrics import accuracy_score, confusion_matrix\n",
    "from sklearn.metrics import auc, roc_curve\n",
    "\n",
    "# Load the Bank Customer Churn Prediction dataset\n",
    "data = pd.read_csv('Bank Customer Churn Prediction.csv')\n",
    "\n",
    "print(\"The first five rows of the dataset:\")\n",
    "print(data.head())\n",
    "\n",
    "print(\"\\nThe total number of features in the dataset:\", data.shape[1])\n",
    "print(\"\\nThe column titles (feature names) of the dataset:\\n\")\n",
    "print(data.columns)\n",
    "\n",
    "# Dependent feature: churn, \n",
    "# churn is 1 if the client has left the bank and 0 if the client has not\n",
    "# n denotes number of input/independent features"
   ]
  },
  {
   "cell_type": "code",
   "execution_count": 2,
   "id": "907f2123",
   "metadata": {},
   "outputs": [
    {
     "name": "stdout",
     "output_type": "stream",
     "text": [
      "Total number of instances in the dataset: 10000\n",
      "Total number of training instances: 8000\n",
      "Total number of test instances: 2000\n"
     ]
    }
   ],
   "source": [
    "# Cell No. 2\n",
    "\n",
    "# Convert the categorical attributes' values into numeric values\n",
    "encoder = LabelEncoder()\n",
    "data['country'] = encoder.fit_transform(data['country'])\n",
    "data['gender'] = encoder.fit_transform(data['gender'])\n",
    "\n",
    "# Drop the customer id column\n",
    "data.drop('customer_id', axis=1, inplace=True)\n",
    "data.head()\n",
    "\n",
    "# Get the independent (input) and dependent (output) features\n",
    "X = data.drop(columns=['churn'])\n",
    "y = data['churn']\n",
    "\n",
    "# Split the dataset into the training and testing sets\n",
    "test_set_ratio = 0.2\n",
    "X_train, X_test, Y_train, Y_test = train_test_split(X, y,\n",
    "                        test_size=test_set_ratio, random_state=42)\n",
    "\n",
    "# Convert the Pandas objects (dataframes & series) to Numpy arrays\n",
    "x_train = X_train.to_numpy()\n",
    "x_test = X_test.to_numpy()\n",
    "y_train = Y_train.to_numpy()\n",
    "y_test = Y_test.to_numpy()\n",
    "\n",
    "# Normalize the features\n",
    "scaler = StandardScaler()\n",
    "x_train = scaler.fit_transform(x_train)\n",
    "x_test = scaler.fit_transform(x_test)\n",
    "\n",
    "print(\"Total number of instances in the dataset:\", data.shape[0])\n",
    "print(\"Total number of training instances:\", x_train.shape[0])\n",
    "print(\"Total number of test instances:\", x_test.shape[0])"
   ]
  },
  {
   "cell_type": "code",
   "execution_count": 3,
   "id": "eb5ee607",
   "metadata": {},
   "outputs": [
    {
     "name": "stdout",
     "output_type": "stream",
     "text": [
      "Training error (Cost function): \n",
      "After 1999 iterations is: 0.2189478301089203\n",
      "\n",
      "Model parameters (using GD): \n",
      "Slope = [[-0.06730336  0.08964993 -0.26994239  0.75540431 -0.04037749  0.30307564\n",
      "  -0.02730809 -0.00329452 -0.53682288  0.01918356]] \n",
      "Intercept = [[-1.61602736]]\n"
     ]
    }
   ],
   "source": [
    "# Cell No. 3\n",
    "\n",
    "# Code for the model training based on the Gradient Descent method\n",
    "\n",
    "# Define the sigmoid function\n",
    "def sigmoid(z):\n",
    "    return 1 / (1 + np.exp(-z))\n",
    "\n",
    "# Define a fucntion to compute the cost function \n",
    "def E(m, b, X, Y):\n",
    "    term1 = Y*np.log(sigmoid(np.dot(m, X) + b))\n",
    "    term2 = (1 - Y)*np.log(1 - sigmoid(np.dot(m, X) + b))\n",
    "    return -1 / (2 * len(X[0])) * np.sum(term1 + term2)\n",
    "\n",
    "# Define functions to calculate the partial derivatives (gradients)\n",
    "def dEdm(m,b, X, Y):\n",
    "    res = 1/len(X[0])*(np.dot((sigmoid((np.dot(m, X) + b)) - Y), X.T))\n",
    "    return res\n",
    " \n",
    "def dEdb(m,b, X,  Y):\n",
    "    res = 1/len(X[0])*np.sum(sigmoid((np.dot(m, X) + b)) - Y)\n",
    "    return res\n",
    "\n",
    "# Define a function for the Gradient Descent iterations\n",
    "def batch_GD(X, Y, dEdm, dEdb, w, b, learning_rate, niter, tol):\n",
    "    \n",
    "    for iteration in range(niter):\n",
    "        w_new = w - learning_rate*dEdm(w, b, X, Y)\n",
    "        b_new = b - learning_rate*dEdb(w, b, X, Y)\n",
    "        \n",
    "        w = w_new\n",
    "        b = b_new\n",
    "        cost = E(w, b, X, Y) \n",
    "        \n",
    "        if cost < tol:\n",
    "            break\n",
    "    \n",
    "    print (\"Training error (Cost function): \")\n",
    "    print (\"After\", iteration, \"iterations is:\", cost)\n",
    "        \n",
    "    return w, b\n",
    "\n",
    "# Transpose/reshape the arrays to ensure compatibility for np.dot()\n",
    "# Convert the X-arrays from mxn to nxm\n",
    "# Convert the target array from mx1 to 1xm\n",
    "# m denotes number of instances and n denotes number of input features\n",
    "x_train = x_train.T\n",
    "x_test = x_test.T\n",
    "y_train = y_train.reshape(1, -1)\n",
    "\n",
    "# Initialize the parameters (weights and bias)\n",
    "n = x_train.shape[0]     # The first value in shape tuple is no. of rows\n",
    "np.random.seed(42)\n",
    "w1 = np.random.rand(1,n) # weights initialized randomly as a 2D array,(1,n)\n",
    "b1 = np.zeros((1,1))     # bias initialized with 0 as a 2D array, (1,1)\n",
    "\n",
    "# Train ML model using the Gradient Decent\n",
    "LR = 0.1            # learning rate (alpha or eta)\n",
    "maxit = 2000         # maximum number of iterations\n",
    "tol = 0.001          # tolerence for the training error (cost function)\n",
    "\n",
    "# Model building uisng gradient decent with random initialized parameters\n",
    "w,b = batch_GD(x_train, y_train, dEdm, dEdb, w1, b1, LR, maxit, tol)\n",
    "\n",
    "# Predict the values for the train and test sets\n",
    "# Output array of np.dot() is 2D of the form (1,n)\n",
    "y_pred_train_norm = np.dot(w, x_train) + b\n",
    "y_pred_test_norm = np.dot(w, x_test) + b\n",
    "\n",
    "# Print the model parameters\n",
    "print('\\nModel parameters (using GD): \\nSlope =', w, '\\nIntercept =', b)\n",
    "\n",
    "# Convert the predicted values into binary class predictions\n",
    "threshold = 0.5       # Adjust the threshold as needed\n",
    "y_pred_train = (y_pred_train_norm > threshold).astype(int) \n",
    "y_pred_test = (y_pred_test_norm > threshold).astype(int)\n",
    "\n",
    "# Convert the arrays from 2D to 1D format that is (n,)\n",
    "y_train = y_train.reshape(-1)\n",
    "y_pred_train = y_pred_train.reshape(-1)\n",
    "y_test = y_test.reshape(-1)\n",
    "y_pred_test = y_pred_test.reshape(-1)"
   ]
  },
  {
   "cell_type": "code",
   "execution_count": 4,
   "id": "70bee1bd",
   "metadata": {},
   "outputs": [
    {
     "name": "stdout",
     "output_type": "stream",
     "text": [
      "Training accuracy: 0.80325\n",
      "Testing accuracy: 0.8065\n",
      "confusion matrix\n",
      " [[1586   21]\n",
      " [ 366   27]]\n"
     ]
    }
   ],
   "source": [
    "# Cell No. 4\n",
    "\n",
    "# Calculate accuracy_score for evalutaion of the model on \n",
    "# the train & test sets\n",
    "train_accuracy = accuracy_score(y_train, y_pred_train)\n",
    "test_accuracy = accuracy_score(y_test, y_pred_test)\n",
    "\n",
    "print('Training accuracy:', train_accuracy)\n",
    "print('Testing accuracy:', test_accuracy)\n",
    "\n",
    "# Compute confusion matrix for the test set\n",
    "cnf_matrix = confusion_matrix(y_test, y_pred_test)\n",
    "print('confusion matrix\\n', cnf_matrix)"
   ]
  },
  {
   "cell_type": "code",
   "execution_count": 5,
   "id": "a6f6615f",
   "metadata": {},
   "outputs": [
    {
     "name": "stdout",
     "output_type": "stream",
     "text": [
      "+--------------+-------------------+\n",
      "|  True Value  |  Predicted Value  |\n",
      "+==============+===================+\n",
      "|      0       |         0         |\n",
      "+--------------+-------------------+\n",
      "|      0       |         0         |\n",
      "+--------------+-------------------+\n",
      "|      0       |         0         |\n",
      "+--------------+-------------------+\n",
      "|      0       |         0         |\n",
      "+--------------+-------------------+\n",
      "|      0       |         0         |\n",
      "+--------------+-------------------+\n",
      "|      0       |         0         |\n",
      "+--------------+-------------------+\n",
      "|      0       |         0         |\n",
      "+--------------+-------------------+\n",
      "|      1       |         0         |\n",
      "+--------------+-------------------+\n",
      "|      0       |         0         |\n",
      "+--------------+-------------------+\n",
      "|      0       |         0         |\n",
      "+--------------+-------------------+\n"
     ]
    }
   ],
   "source": [
    "# Cell no. 05\n",
    "\n",
    "# Compare the predicted and target values for the test set\n",
    "\n",
    "from tabulate import tabulate\n",
    "\n",
    "# Create a list of tuples with true and predicted values\n",
    "compare = [(y_t,y_p) for y_t, y_p in zip(y_test[61:71],y_pred_test[61:71])]\n",
    "\n",
    "# Define the column headings for the comparison table\n",
    "headers = [\"True Value\", \"Predicted Value\"]\n",
    "\n",
    "# Print the comparison table\n",
    "print(tabulate(compare, headers, tablefmt = \"grid\", \n",
    "               numalign = \"center\"))"
   ]
  },
  {
   "cell_type": "code",
   "execution_count": 6,
   "id": "32be8a38",
   "metadata": {
    "scrolled": true
   },
   "outputs": [
    {
     "data": {
      "image/png": "[encoded data removed]",
      "text/plain": [
       "<Figure size 400x300 with 2 Axes>"
      ]
     },
     "metadata": {},
     "output_type": "display_data"
    }
   ],
   "source": [
    "# Cell No. 6\n",
    "\n",
    "# Create a figure for the confusion matrix plot\n",
    "plt.figure(figsize=(4, 3))\n",
    "\n",
    "# Plot the confusion matrix as a heatmap\n",
    "plt.imshow(cnf_matrix, interpolation='nearest', cmap=plt.cm.Blues)\n",
    "plt.title('Confusion Matrix')\n",
    "plt.colorbar()\n",
    "\n",
    "# Label the axes\n",
    "classes = np.unique(y_test)\n",
    "tick_marks = np.arange(len(classes))\n",
    "plt.xticks(tick_marks, classes)\n",
    "plt.yticks(tick_marks, classes)\n",
    "\n",
    "# Add labels for the axes\n",
    "plt.xlabel('Predicted')\n",
    "plt.ylabel('True')\n",
    "\n",
    "# Add the values inside the heatmap\n",
    "for i in range(len(classes)):\n",
    "    for j in range(len(classes)):\n",
    "        plt.text(j, i, str(cnf_matrix[i, j]), horizontalalignment='center',\n",
    "                             verticalalignment='center')\n",
    "\n",
    "# Show the plot\n",
    "plt.show()"
   ]
  },
  {
   "cell_type": "code",
   "execution_count": 7,
   "id": "6b48923e",
   "metadata": {},
   "outputs": [
    {
     "data": {
      "image/png": "[encoded data removed]",
      "text/plain": [
       "<Figure size 800x600 with 1 Axes>"
      ]
     },
     "metadata": {},
     "output_type": "display_data"
    }
   ],
   "source": [
    "# Cell No. 7\n",
    "\n",
    "fpr, tpr, _ = roc_curve(y_test, y_pred_test)\n",
    "roc_auc = auc(fpr, tpr)\n",
    "\n",
    "# Plot the ROC curve\n",
    "plt.figure(figsize=(8, 6))\n",
    "plt.plot(fpr, tpr, color='darkorange', lw=2, \n",
    "         label=f'ROC curve (area = {roc_auc:.2f})')\n",
    "\n",
    "plt.xlim([0.0, 1.0])\n",
    "plt.ylim([0.0, 1.05])\n",
    "plt.xlabel('False Positive Rate')\n",
    "plt.ylabel('True Positive Rate')\n",
    "plt.title('Receiver Operating Characteristic (ROC) Curve')\n",
    "plt.legend(loc='lower right')\n",
    "plt.show()"
   ]
  },
  {
   "cell_type": "code",
   "execution_count": null,
   "id": "23a3bce4",
   "metadata": {},
   "outputs": [],
   "source": []
  }
 ],
 "metadata": {
  "kernelspec": {
   "display_name": "Python 3 (ipykernel)",
   "language": "python",
   "name": "python3"
  },
  "language_info": {
   "codemirror_mode": {
    "name": "ipython",
    "version": 3
   },
   "file_extension": ".py",
   "mimetype": "text/x-python",
   "name": "python",
   "nbconvert_exporter": "python",
   "pygments_lexer": "ipython3",
   "version": "3.10.9"
  }
 },
 "nbformat": 4,
 "nbformat_minor": 5
}
